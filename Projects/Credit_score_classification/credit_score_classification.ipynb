{
 "cells": [
  {
   "attachments": {},
   "cell_type": "markdown",
   "metadata": {},
   "source": [
    "<span style=\"font-size: 20px;\">Credit Score Classification using Python</span>"
   ]
  },
  {
   "cell_type": "code",
   "execution_count": 1,
   "metadata": {},
   "outputs": [],
   "source": [
    "import pandas as pd\n",
    "import numpy as np\n",
    "\n",
    "import plotly.express as px\n",
    "import plotly.graph_objects as go\n",
    "import plotly.io as pio\n",
    "\n",
    "pio.templates.default = \"plotly_white\""
   ]
  },
  {
   "cell_type": "code",
   "execution_count": 2,
   "metadata": {},
   "outputs": [],
   "source": [
    "#Read the data"
   ]
  },
  {
   "cell_type": "code",
   "execution_count": null,
   "metadata": {},
   "outputs": [],
   "source": [
    "data = pd.read_csv(\"/Users/prasku/Library/CloudStorage/OneDrive-Personal/Codebase/Datasets/Credit_score_analysis/train.csv\")\n",
    "print(data.head())"
   ]
  },
  {
   "cell_type": "code",
   "execution_count": 3,
   "metadata": {},
   "outputs": [
    {
     "name": "stdout",
     "output_type": "stream",
     "text": [
      "<class 'pandas.core.frame.DataFrame'>\n",
      "RangeIndex: 100000 entries, 0 to 99999\n",
      "Data columns (total 28 columns):\n",
      " #   Column                    Non-Null Count   Dtype  \n",
      "---  ------                    --------------   -----  \n",
      " 0   ID                        100000 non-null  int64  \n",
      " 1   Customer_ID               100000 non-null  int64  \n",
      " 2   Month                     100000 non-null  int64  \n",
      " 3   Name                      100000 non-null  object \n",
      " 4   Age                       100000 non-null  float64\n",
      " 5   SSN                       100000 non-null  float64\n",
      " 6   Occupation                100000 non-null  object \n",
      " 7   Annual_Income             100000 non-null  float64\n",
      " 8   Monthly_Inhand_Salary     100000 non-null  float64\n",
      " 9   Num_Bank_Accounts         100000 non-null  float64\n",
      " 10  Num_Credit_Card           100000 non-null  float64\n",
      " 11  Interest_Rate             100000 non-null  float64\n",
      " 12  Num_of_Loan               100000 non-null  float64\n",
      " 13  Type_of_Loan              100000 non-null  object \n",
      " 14  Delay_from_due_date       100000 non-null  float64\n",
      " 15  Num_of_Delayed_Payment    100000 non-null  float64\n",
      " 16  Changed_Credit_Limit      100000 non-null  float64\n",
      " 17  Num_Credit_Inquiries      100000 non-null  float64\n",
      " 18  Credit_Mix                100000 non-null  object \n",
      " 19  Outstanding_Debt          100000 non-null  float64\n",
      " 20  Credit_Utilization_Ratio  100000 non-null  float64\n",
      " 21  Credit_History_Age        100000 non-null  float64\n",
      " 22  Payment_of_Min_Amount     100000 non-null  object \n",
      " 23  Total_EMI_per_month       100000 non-null  float64\n",
      " 24  Amount_invested_monthly   100000 non-null  float64\n",
      " 25  Payment_Behaviour         100000 non-null  object \n",
      " 26  Monthly_Balance           100000 non-null  float64\n",
      " 27  Credit_Score              100000 non-null  object \n",
      "dtypes: float64(18), int64(3), object(7)\n",
      "memory usage: 21.4+ MB\n",
      "None\n"
     ]
    }
   ],
   "source": [
    "print(data.info())"
   ]
  },
  {
   "cell_type": "code",
   "execution_count": null,
   "metadata": {},
   "outputs": [],
   "source": [
    "#Look for Null values"
   ]
  },
  {
   "attachments": {},
   "cell_type": "markdown",
   "metadata": {},
   "source": [
    "The code data.isnull().sum() is used to count the number of missing values (null or NaN) in each column of a DataFrame called data. Let's break down the code step by step:\n",
    "\n",
    "data.isnull() - This part of the code generates a DataFrame of the same shape as data but with boolean values indicating whether each element in data is null or not. The resulting DataFrame will have True where the value is null and False where it is not null.\n",
    "\n",
    ".sum() - This method is then applied to the boolean DataFrame to calculate the sum of True values along each column. Since True is equivalent to 1 and False is equivalent to 0, summing the boolean values gives the total count of null values in each column."
   ]
  },
  {
   "cell_type": "code",
   "execution_count": 4,
   "metadata": {},
   "outputs": [
    {
     "name": "stdout",
     "output_type": "stream",
     "text": [
      "ID                          0\n",
      "Customer_ID                 0\n",
      "Month                       0\n",
      "Name                        0\n",
      "Age                         0\n",
      "SSN                         0\n",
      "Occupation                  0\n",
      "Annual_Income               0\n",
      "Monthly_Inhand_Salary       0\n",
      "Num_Bank_Accounts           0\n",
      "Num_Credit_Card             0\n",
      "Interest_Rate               0\n",
      "Num_of_Loan                 0\n",
      "Type_of_Loan                0\n",
      "Delay_from_due_date         0\n",
      "Num_of_Delayed_Payment      0\n",
      "Changed_Credit_Limit        0\n",
      "Num_Credit_Inquiries        0\n",
      "Credit_Mix                  0\n",
      "Outstanding_Debt            0\n",
      "Credit_Utilization_Ratio    0\n",
      "Credit_History_Age          0\n",
      "Payment_of_Min_Amount       0\n",
      "Total_EMI_per_month         0\n",
      "Amount_invested_monthly     0\n",
      "Payment_Behaviour           0\n",
      "Monthly_Balance             0\n",
      "Credit_Score                0\n",
      "dtype: int64\n"
     ]
    }
   ],
   "source": [
    "print(data.isnull().sum())"
   ]
  },
  {
   "attachments": {},
   "cell_type": "markdown",
   "metadata": {},
   "source": [
    ".value_counts() - This method is then applied to the selected column. It counts the number of occurrences of each unique value in the column and returns a new pandas Series object where the unique values become the index and the counts become the corresponding values."
   ]
  },
  {
   "cell_type": "code",
   "execution_count": 5,
   "metadata": {},
   "outputs": [
    {
     "data": {
      "text/plain": [
       "Credit_Score\n",
       "Standard    53174\n",
       "Poor        28998\n",
       "Good        17828\n",
       "Name: count, dtype: int64"
      ]
     },
     "execution_count": 5,
     "metadata": {},
     "output_type": "execute_result"
    }
   ],
   "source": [
    "data[\"Credit_Score\"].value_counts()"
   ]
  },
  {
   "attachments": {},
   "cell_type": "markdown",
   "metadata": {},
   "source": [
    "Data Exploration\n",
    "\n",
    "The dataset has many features that can train a Machine Learning model for credit score classification. Let’s explore all the features one by one.\n",
    "\n",
    "I will start by exploring the occupation feature to know if the occupation of the person affects credit scores:"
   ]
  },
  {
   "cell_type": "code",
   "execution_count": null,
   "metadata": {},
   "outputs": [],
   "source": [
    "fig = px.box(data, \n",
    "             x=\"Occupation\",  \n",
    "             color=\"Credit_Score\", \n",
    "             title=\"Credit Scores Based on Occupation\", \n",
    "             color_discrete_map={'Poor':'red',\n",
    "                                 'Standard':'yellow',\n",
    "                                 'Good':'green'})\n",
    "fig.show()"
   ]
  },
  {
   "attachments": {},
   "cell_type": "markdown",
   "metadata": {},
   "source": [
    "There’s not much difference in the credit scores of all occupations mentioned in the data. Now let’s explore whether the Annual Income of the person impacts your credit scores or not:"
   ]
  },
  {
   "cell_type": "code",
   "execution_count": 5,
   "metadata": {},
   "outputs": [],
   "source": [
    "fig = px.box(data, \n",
    "             x=\"Credit_Score\", \n",
    "             y=\"Annual_Income\", \n",
    "             color=\"Credit_Score\",\n",
    "             title=\"Credit Scores Based on Annual Income\", \n",
    "             color_discrete_map={'Poor':'red',\n",
    "                                 'Standard':'yellow',\n",
    "                                 'Good':'green'})"
   ]
  },
  {
   "cell_type": "code",
   "execution_count": null,
   "metadata": {},
   "outputs": [],
   "source": [
    "fig.update_traces(quartilemethod=\"exclusive\")\n",
    "fig.show()"
   ]
  },
  {
   "attachments": {},
   "cell_type": "markdown",
   "metadata": {},
   "source": [
    "According to the above visualization, the more you earn annually, the better your credit score is. Now let’s explore whether the monthly in-hand salary impacts credit scores or not:"
   ]
  },
  {
   "cell_type": "code",
   "execution_count": null,
   "metadata": {},
   "outputs": [],
   "source": [
    "fig = px.box(data, \n",
    "             x=\"Credit_Score\", \n",
    "             y=\"Monthly_Inhand_Salary\", \n",
    "             color=\"Credit_Score\",\n",
    "             title=\"Credit Scores Based on Monthly Inhand Salary\", \n",
    "             color_discrete_map={'Poor':'red',\n",
    "                                 'Standard':'yellow',\n",
    "                                 'Good':'green'})\n",
    "fig.update_traces(quartilemethod=\"exclusive\")\n",
    "fig.show()"
   ]
  },
  {
   "attachments": {},
   "cell_type": "markdown",
   "metadata": {},
   "source": [
    "Like annual income, the more monthly in-hand salary you earn, the better your credit score will become. Now let’s see if having more bank accounts impacts credit scores or not:"
   ]
  },
  {
   "cell_type": "code",
   "execution_count": null,
   "metadata": {},
   "outputs": [],
   "source": [
    "fig = px.box(data, \n",
    "             x=\"Credit_Score\", \n",
    "             y=\"Num_Bank_Accounts\", \n",
    "             color=\"Credit_Score\",\n",
    "             title=\"Credit Scores Based on Number of Bank Accounts\", \n",
    "             color_discrete_map={'Poor':'red',\n",
    "                                 'Standard':'yellow',\n",
    "                                 'Good':'green'})\n",
    "fig.update_traces(quartilemethod=\"exclusive\")\n",
    "fig.show()"
   ]
  },
  {
   "attachments": {},
   "cell_type": "markdown",
   "metadata": {},
   "source": [
    "Maintaining more than five accounts is not good for having a good credit score. A person should have 2 – 3 bank accounts only. So having more bank accounts doesn’t positively impact credit scores. Now let’s see the impact on credit scores based on the number of credit cards you have:"
   ]
  },
  {
   "cell_type": "code",
   "execution_count": null,
   "metadata": {},
   "outputs": [],
   "source": [
    "fig = px.box(data, \n",
    "             x=\"Credit_Score\", \n",
    "             y=\"Num_Credit_Card\", \n",
    "             color=\"Credit_Score\",\n",
    "             title=\"Credit Scores Based on Number of Credit cards\", \n",
    "             color_discrete_map={'Poor':'red',\n",
    "                                 'Standard':'yellow',\n",
    "                                 'Good':'green'})\n",
    "fig.update_traces(quartilemethod=\"exclusive\")\n",
    "fig.show()"
   ]
  },
  {
   "attachments": {},
   "cell_type": "markdown",
   "metadata": {},
   "source": [
    "Just like the number of bank accounts, having more credit cards will not positively impact your credit scores. Having 3 – 5 credit cards is good for your credit score. Now let’s see the impact on credit scores based on how much average interest you pay on loans and EMIs:"
   ]
  },
  {
   "cell_type": "code",
   "execution_count": null,
   "metadata": {},
   "outputs": [],
   "source": [
    "fig = px.box(data, \n",
    "             x=\"Credit_Score\", \n",
    "             y=\"Interest_Rate\", \n",
    "             color=\"Credit_Score\",\n",
    "             title=\"Credit Scores Based on the Average Interest rates\", \n",
    "             color_discrete_map={'Poor':'red',\n",
    "                                 'Standard':'yellow',\n",
    "                                 'Good':'green'})\n",
    "fig.update_traces(quartilemethod=\"exclusive\")\n",
    "fig.show()"
   ]
  },
  {
   "attachments": {},
   "cell_type": "markdown",
   "metadata": {},
   "source": [
    "If the average interest rate is 4 – 11%, the credit score is good. Having an average interest rate of more than 15% is bad for your credit scores. Now let’s see how many loans you can take at a time for a good credit score:"
   ]
  },
  {
   "cell_type": "code",
   "execution_count": null,
   "metadata": {},
   "outputs": [],
   "source": [
    "fig = px.box(data, \n",
    "             x=\"Credit_Score\", \n",
    "             y=\"Num_of_Loan\", \n",
    "             color=\"Credit_Score\", \n",
    "             title=\"Credit Scores Based on Number of Loans Taken by the Person\",\n",
    "             color_discrete_map={'Poor':'red',\n",
    "                                 'Standard':'yellow',\n",
    "                                 'Good':'green'})\n",
    "fig.update_traces(quartilemethod=\"exclusive\")\n",
    "fig.show()"
   ]
  },
  {
   "attachments": {},
   "cell_type": "markdown",
   "metadata": {},
   "source": [
    "To have a good credit score, you should not take more than 1 – 3 loans at a time. Having more than three loans at a time will negatively impact your credit scores. Now let’s see if delaying payments on the due date impacts your credit scores or not:"
   ]
  },
  {
   "cell_type": "code",
   "execution_count": null,
   "metadata": {},
   "outputs": [],
   "source": [
    "fig = px.box(data, \n",
    "             x=\"Credit_Score\", \n",
    "             y=\"Delay_from_due_date\", \n",
    "             color=\"Credit_Score\",\n",
    "             title=\"Credit Scores Based on Average Number of Days Delayed for Credit card Payments\", \n",
    "             color_discrete_map={'Poor':'red',\n",
    "                                 'Standard':'yellow',\n",
    "                                 'Good':'green'})\n",
    "fig.update_traces(quartilemethod=\"exclusive\")\n",
    "fig.show()"
   ]
  },
  {
   "attachments": {},
   "cell_type": "markdown",
   "metadata": {},
   "source": [
    "So you can delay your credit card payment 5 – 14 days from the due date. Delaying your payments for more than 17 days from the due date will impact your credit scores negatively. Now let’s have a look at if frequently declined payments will impact credit scores or not:\n"
   ]
  },
  {
   "cell_type": "code",
   "execution_count": null,
   "metadata": {},
   "outputs": [],
   "source": [
    "fig = px.box(data, \n",
    "             x=\"Credit_Score\", \n",
    "             y=\"Num_of_Delayed_Payment\", \n",
    "             color=\"Credit_Score\", \n",
    "             title=\"Credit Scores Based on Number of Delayed Payments\",\n",
    "             color_discrete_map={'Poor':'red',\n",
    "                                 'Standard':'yellow',\n",
    "                                 'Good':'green'})\n",
    "fig.update_traces(quartilemethod=\"exclusive\")\n",
    "fig.show()"
   ]
  },
  {
   "attachments": {},
   "cell_type": "markdown",
   "metadata": {},
   "source": [
    "So delaying 4 – 12 payments from the due date will not affect your credit scores. But delaying more than 12 payments from the due date will affect your credit scores negatively. Now let’s see if having more debt will affect credit scores or not:"
   ]
  },
  {
   "cell_type": "code",
   "execution_count": null,
   "metadata": {},
   "outputs": [],
   "source": [
    "fig = px.box(data, \n",
    "             x=\"Credit_Score\", \n",
    "             y=\"Outstanding_Debt\", \n",
    "             color=\"Credit_Score\", \n",
    "             title=\"Credit Scores Based on Outstanding Debt\",\n",
    "             color_discrete_map={'Poor':'red',\n",
    "                                 'Standard':'yellow',\n",
    "                                 'Good':'green'})\n",
    "fig.update_traces(quartilemethod=\"exclusive\")\n",
    "fig.show()"
   ]
  },
  {
   "attachments": {},
   "cell_type": "markdown",
   "metadata": {},
   "source": [
    "An outstanding debt of $380 – $1150 will not affect your credit scores. But always having a debt of more than $1338 will affect your credit scores negatively. Now let’s see if having a high credit utilization ratio will affect credit scores or not:"
   ]
  },
  {
   "cell_type": "code",
   "execution_count": null,
   "metadata": {},
   "outputs": [],
   "source": [
    "fig = px.box(data, \n",
    "             x=\"Credit_Score\", \n",
    "             y=\"Credit_Utilization_Ratio\", \n",
    "             color=\"Credit_Score\",\n",
    "             title=\"Credit Scores Based on Credit Utilization Ratio\", \n",
    "             color_discrete_map={'Poor':'red',\n",
    "                                 'Standard':'yellow',\n",
    "                                 'Good':'green'})\n",
    "fig.update_traces(quartilemethod=\"exclusive\")\n",
    "fig.show()"
   ]
  },
  {
   "attachments": {},
   "cell_type": "markdown",
   "metadata": {},
   "source": [
    "Credit utilization ratio means your total debt divided by your total available credit. According to the above figure, your credit utilization ratio doesn’t affect your credit scores. Now let’s see how the credit history age of a person affects credit scores:"
   ]
  },
  {
   "cell_type": "code",
   "execution_count": null,
   "metadata": {},
   "outputs": [],
   "source": [
    "fig = px.box(data, \n",
    "             x=\"Credit_Score\", \n",
    "             y=\"Credit_History_Age\", \n",
    "             color=\"Credit_Score\", \n",
    "             title=\"Credit Scores Based on Credit History Age\",\n",
    "             color_discrete_map={'Poor':'red',\n",
    "                                 'Standard':'yellow',\n",
    "                                 'Good':'green'})\n",
    "fig.update_traces(quartilemethod=\"exclusive\")\n",
    "fig.show()"
   ]
  },
  {
   "attachments": {},
   "cell_type": "markdown",
   "metadata": {},
   "source": [
    "So, having a long credit history results in better credit scores. Now let’s see how many EMIs you can have in a month for a good credit score:\n",
    "\n"
   ]
  },
  {
   "cell_type": "code",
   "execution_count": null,
   "metadata": {},
   "outputs": [],
   "source": [
    "fig = px.box(data, \n",
    "             x=\"Credit_Score\", \n",
    "             y=\"Total_EMI_per_month\", \n",
    "             color=\"Credit_Score\", \n",
    "             title=\"Credit Scores Based on Total Number of EMIs per Month\",\n",
    "             color_discrete_map={'Poor':'red',\n",
    "                                 'Standard':'yellow',\n",
    "                                 'Good':'green'})\n",
    "fig.update_traces(quartilemethod=\"exclusive\")\n",
    "fig.show()"
   ]
  },
  {
   "attachments": {},
   "cell_type": "markdown",
   "metadata": {},
   "source": [
    "The number of EMIs you are paying in a month doesn’t affect much on credit scores. Now let’s see if your monthly investments affect your credit scores or not:"
   ]
  },
  {
   "cell_type": "code",
   "execution_count": null,
   "metadata": {},
   "outputs": [],
   "source": [
    "fig = px.box(data, \n",
    "             x=\"Credit_Score\", \n",
    "             y=\"Amount_invested_monthly\", \n",
    "             color=\"Credit_Score\", \n",
    "             title=\"Credit Scores Based on Amount Invested Monthly\",\n",
    "             color_discrete_map={'Poor':'red',\n",
    "                                 'Standard':'yellow',\n",
    "                                 'Good':'green'})\n",
    "fig.update_traces(quartilemethod=\"exclusive\")\n",
    "fig.show()"
   ]
  },
  {
   "attachments": {},
   "cell_type": "markdown",
   "metadata": {},
   "source": [
    "The amount of money you invest monthly doesn’t affect your credit scores a lot. Now let’s see if having a low amount at the end of the month affects credit scores or not:"
   ]
  },
  {
   "cell_type": "code",
   "execution_count": null,
   "metadata": {},
   "outputs": [],
   "source": [
    "fig = px.box(data, \n",
    "             x=\"Credit_Score\", \n",
    "             y=\"Monthly_Balance\", \n",
    "             color=\"Credit_Score\", \n",
    "             title=\"Credit Scores Based on Monthly Balance Left\",\n",
    "             color_discrete_map={'Poor':'red',\n",
    "                                 'Standard':'yellow',\n",
    "                                 'Good':'green'})\n",
    "fig.update_traces(quartilemethod=\"exclusive\")\n",
    "fig.show()"
   ]
  },
  {
   "attachments": {},
   "cell_type": "markdown",
   "metadata": {},
   "source": [
    "So, having a high monthly balance in your account at the end of the month is good for your credit scores. A monthly balance of less than $250 is bad for credit scores. Lets see if no of credit enquiries impacts the score"
   ]
  },
  {
   "cell_type": "code",
   "execution_count": null,
   "metadata": {},
   "outputs": [],
   "source": [
    "fig = px.box(data, \n",
    "             x=\"Credit_Score\", \n",
    "             y=\"Num_Credit_Inquiries\", \n",
    "             color=\"Credit_Score\", \n",
    "             title=\"Credit Scores Based on No of credit enquiries\",\n",
    "             color_discrete_map={'Poor':'red',\n",
    "                                 'Standard':'yellow',\n",
    "                                 'Good':'green'})\n",
    "fig.update_traces(quartilemethod=\"exclusive\")\n",
    "fig.show()"
   ]
  },
  {
   "attachments": {},
   "cell_type": "markdown",
   "metadata": {},
   "source": [
    "Looks like \n",
    "\n",
    "1-4 credit enquiries are good\n",
    "\n",
    "3-8 have average impact \n",
    "\n",
    "6-11 have high negative impact on credit score"
   ]
  },
  {
   "cell_type": "code",
   "execution_count": null,
   "metadata": {},
   "outputs": [],
   "source": [
    "data[\"Credit_Mix\"]"
   ]
  },
  {
   "attachments": {},
   "cell_type": "markdown",
   "metadata": {},
   "source": [
    "Credit Score Classification Model\n",
    "\n",
    "One more important feature (Credit Mix) in the dataset is valuable for determining credit scores. The credit mix feature tells about the types of credits and loans you have taken.\n",
    "\n",
    "As the Credit_Mix column is categorical, I will transform it into a numerical feature so that we can use it to train a Machine Learning model for the task of credit score classification:"
   ]
  },
  {
   "cell_type": "code",
   "execution_count": 8,
   "metadata": {},
   "outputs": [],
   "source": [
    "data[\"Credit_Mix\"] = data[\"Credit_Mix\"].map( {\"Standard\":1 , \"Good\":2, \"Bad\":0 }  )"
   ]
  },
  {
   "attachments": {},
   "cell_type": "markdown",
   "metadata": {},
   "source": [
    "Now I will split the data into features and labels by selecting the features we found important for our model:"
   ]
  },
  {
   "cell_type": "code",
   "execution_count": 9,
   "metadata": {},
   "outputs": [],
   "source": [
    "from sklearn.model_selection import train_test_split"
   ]
  },
  {
   "cell_type": "code",
   "execution_count": null,
   "metadata": {},
   "outputs": [],
   "source": [
    "x = np.array( data[[\"Annual_Income\", \"Monthly_Inhand_Salary\", \n",
    "                   \"Num_Bank_Accounts\", \"Num_Credit_Card\", \n",
    "                   \"Interest_Rate\", \"Num_of_Loan\", \n",
    "                   \"Delay_from_due_date\", \"Num_of_Delayed_Payment\", \n",
    "                   \"Credit_Mix\", \"Outstanding_Debt\", \n",
    "                   \"Credit_History_Age\", \"Monthly_Balance\", \"Num_Credit_Inquiries\"]])\n",
    "x"
   ]
  },
  {
   "cell_type": "code",
   "execution_count": null,
   "metadata": {},
   "outputs": [],
   "source": [
    "y = np.array(data[\"Credit_Score\"])\n",
    "y"
   ]
  },
  {
   "attachments": {},
   "cell_type": "markdown",
   "metadata": {},
   "source": [
    "Now, let’s split the data into training and test sets and proceed further by training a credit score classification model:\n"
   ]
  },
  {
   "cell_type": "code",
   "execution_count": 12,
   "metadata": {},
   "outputs": [],
   "source": [
    "xtrain, xtest, ytrain, ytest = train_test_split(x, y, \n",
    "                                                    test_size=0.33, \n",
    "                                                    random_state=42)"
   ]
  },
  {
   "cell_type": "code",
   "execution_count": 13,
   "metadata": {},
   "outputs": [],
   "source": [
    "from sklearn.ensemble import RandomForestClassifier\n",
    "model = RandomForestClassifier()"
   ]
  },
  {
   "cell_type": "code",
   "execution_count": null,
   "metadata": {},
   "outputs": [],
   "source": [
    "model.fit(xtrain, ytrain)"
   ]
  },
  {
   "attachments": {},
   "cell_type": "markdown",
   "metadata": {},
   "source": [
    "Now, let’s make predictions from our model by giving inputs to our model according to the features we used to train the model:"
   ]
  },
  {
   "cell_type": "code",
   "execution_count": 15,
   "metadata": {},
   "outputs": [
    {
     "name": "stdout",
     "output_type": "stream",
     "text": [
      "Credit Score Prediction : \n",
      "Predicted Credit Score =  ['Good']\n"
     ]
    }
   ],
   "source": [
    "print(\"Credit Score Prediction : \")\n",
    "a = float(input(\"Annual Income: \"))\n",
    "b = float(input(\"Monthly Inhand Salary: \"))\n",
    "c = float(input(\"Number of Bank Accounts: \"))\n",
    "d = float(input(\"Number of Credit cards: \"))\n",
    "e = float(input(\"Interest rate: \"))\n",
    "f = float(input(\"Number of Loans: \"))\n",
    "g = float(input(\"Average number of days delayed by the person: \"))\n",
    "h = float(input(\"Number of delayed payments: \"))\n",
    "i = input(\"Credit Mix (Bad: 0, Standard: 1, Good: 3) : \")\n",
    "j = float(input(\"Outstanding Debt: \"))\n",
    "k = float(input(\"Credit History Age: \"))\n",
    "l = float(input(\"Monthly Balance: \"))\n",
    "m = float(input(\"Num_Credit_Inquiries\"))\n",
    "\n",
    "features = np.array([[a, b, c, d, e, f, g, h, i, j, k, l, m]])\n",
    "\n",
    "print(\"Predicted Credit Score = \", model.predict(features))"
   ]
  },
  {
   "attachments": {},
   "cell_type": "markdown",
   "metadata": {},
   "source": [
    "Credit Score Prediction :\n",
    "Annual Income: 19114.12\n",
    "Monthly Inhand Salary: 1824.843333\n",
    "Number of Bank Accounts: 2\n",
    "Number of Credit cards: 2\n",
    "Interest rate: 9\n",
    "Number of Loans: 2\n",
    "Average number of days delayed by the person: 12\n",
    "Number of delayed payments: 3\n",
    "Credit Mix (Bad: 0, Standard: 1, Good: 3) : 3\n",
    "Outstanding Debt: 250\n",
    "Credit History Age: 200\n",
    "Monthly Balance: 310\n",
    "Predicted Credit Score =  ['Good']\n",
    "Num of credit enquiries = 4"
   ]
  },
  {
   "attachments": {},
   "cell_type": "markdown",
   "metadata": {},
   "source": [
    "So this is how you can use Machine Learning for the task of Credit Score Classification using Python.\n",
    "m"
   ]
  },
  {
   "attachments": {},
   "cell_type": "markdown",
   "metadata": {},
   "source": [
    "Summary\n",
    "\n",
    "Classifying customers based on their credit scores helps banks and credit card companies immediately to issue loans to customers with good creditworthiness. A person with a good credit score will get loans from any bank and financial institution. I hope you liked this article on Credit Score Classification with Machine Learning using Python. Feel free to ask valuable questions in the comments section below."
   ]
  }
 ],
 "metadata": {
  "kernelspec": {
   "display_name": ".venv",
   "language": "python",
   "name": "python3"
  },
  "language_info": {
   "codemirror_mode": {
    "name": "ipython",
    "version": 3
   },
   "file_extension": ".py",
   "mimetype": "text/x-python",
   "name": "python",
   "nbconvert_exporter": "python",
   "pygments_lexer": "ipython3",
   "version": "3.9.6"
  },
  "orig_nbformat": 4
 },
 "nbformat": 4,
 "nbformat_minor": 2
}
